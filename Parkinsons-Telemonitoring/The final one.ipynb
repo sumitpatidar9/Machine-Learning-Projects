{
 "cells": [
  {
   "cell_type": "code",
   "execution_count": 30,
   "id": "cc1ece4b",
   "metadata": {},
   "outputs": [],
   "source": [
    "import pandas as pd\n",
    "df = pd.read_csv('parkinsons_updrs.csv')\n",
    "\n",
    "df.head()\n",
    "X = df.drop(columns = ['subject#', 'motor_UPDRS', 'total_UPDRS'])\n",
    "y = df['motor_UPDRS']"
   ]
  },
  {
   "cell_type": "code",
   "execution_count": 31,
   "id": "c47148d8",
   "metadata": {},
   "outputs": [],
   "source": [
    "from sklearn.model_selection import train_test_split\n",
    "\n",
    "X_train, X_test, y_train, y_test = train_test_split(X, y, test_size=0.2, random_state=42)"
   ]
  },
  {
   "cell_type": "code",
   "execution_count": 32,
   "id": "661041ae",
   "metadata": {},
   "outputs": [],
   "source": [
    "from sklearn.preprocessing import StandardScaler\n",
    "scaler = StandardScaler()\n",
    "X_train_scaled = scaler.fit_transform(X_train)\n",
    "X_test_scaled = scaler.transform(X_test)"
   ]
  },
  {
   "cell_type": "code",
   "execution_count": 28,
   "id": "f2043e94",
   "metadata": {},
   "outputs": [],
   "source": [
    "from sklearn.preprocessing import MinMaxScaler\n",
    "scaler = MinMaxScaler()\n",
    "X_train_scaled = scaler.fit_transform(X_train)\n",
    "X_test_scaled = scaler.transform(X_test)"
   ]
  },
  {
   "cell_type": "markdown",
   "id": "b2315c3e",
   "metadata": {},
   "source": [
    "# AdaBoost "
   ]
  },
  {
   "cell_type": "code",
   "execution_count": 50,
   "id": "a94472e8",
   "metadata": {},
   "outputs": [
    {
     "name": "stderr",
     "output_type": "stream",
     "text": [
      "C:\\Users\\Sumit\\AppData\\Roaming\\Python\\Python39\\site-packages\\sklearn\\ensemble\\_base.py:156: FutureWarning: `base_estimator` was renamed to `estimator` in version 1.2 and will be removed in 1.4.\n",
      "  warnings.warn(\n"
     ]
    },
    {
     "name": "stdout",
     "output_type": "stream",
     "text": [
      "Train MSE: 0.15577547636826256\n",
      "Test MSE: 0.7538382417419265\n",
      "R2 Score Train: 0.9976620304077846\n",
      "R2 Score Test: 0.9881897636798131\n",
      "Train MAE: 0.2403665238584856\n",
      "Test MAE: 0.2403665238584856\n"
     ]
    }
   ],
   "source": [
    "from sklearn.ensemble import AdaBoostRegressor\n",
    "from sklearn.tree import DecisionTreeRegressor\n",
    "\n",
    "from sklearn.metrics import mean_squared_error\n",
    "from sklearn.metrics import r2_score\n",
    "from sklearn.metrics import mean_absolute_error, mean_absolute_percentage_error\n",
    "\n",
    "\n",
    "adaboost_model = AdaBoostRegressor(base_estimator = DecisionTreeRegressor(max_depth = 10), n_estimators = 100, random_state = 42)\n",
    "\n",
    "\n",
    "adaboost_model.fit(X_train_scaled, y_train)\n",
    "\n",
    "y_train_pred = adaboost_model.predict(X_train_scaled)\n",
    "y_test_pred =  adaboost_model.predict(X_test_scaled)\n",
    "\n",
    "train_mse = mean_squared_error(y_train, y_train_pred)\n",
    "test_mse = mean_squared_error(y_test, y_test_pred)\n",
    "\n",
    "R2_score_train = r2_score(y_train,  y_train_pred)\n",
    "R2_score_test = r2_score(y_test, y_test_pred)\n",
    "\n",
    "train_mae = mean_absolute_error(y_train, y_train_pred)\n",
    "test_mae = mean_absolute_error(y_train, y_train_pred)\n",
    "\n",
    "print(\"Train MSE adaboost:\", train_mse)\n",
    "print(\"Test MSE adaboost:\",  test_mse)\n",
    "\n",
    "print(\"R2 Score Train adaboost:\", R2_score_train)\n",
    "print(\"R2 Score Test adaboost:\", R2_score_test)\n",
    "\n",
    "print(\"Train MAE adaboost:\", train_mae)\n",
    "print(\"Test MAE adaboost:\",  test_mae)\n"
   ]
  },
  {
   "cell_type": "markdown",
   "id": "9c53ea56",
   "metadata": {},
   "source": [
    "# GradientBoost"
   ]
  },
  {
   "cell_type": "code",
   "execution_count": 51,
   "id": "b746bd44",
   "metadata": {},
   "outputs": [
    {
     "name": "stdout",
     "output_type": "stream",
     "text": [
      "Train MSE: 0.3678907403736349\n",
      "Test MSE: 1.8467804622491724\n",
      "R2 Score Train: 0.9944784802826228\n",
      "R2 Score Test: 0.971066851636145\n",
      "Train MAE: 0.4184999384429958\n",
      "Test MAE: 0.4184999384429958\n"
     ]
    }
   ],
   "source": [
    "from sklearn.ensemble import GradientBoostingRegressor\n",
    "\n",
    "gradient_boost_model = GradientBoostingRegressor(n_estimators = 100, learning_rate = 0.1, max_depth = 7, random_state = 42)\n",
    "\n",
    "gradient_boost_model.fit(X_train_scaled, y_train)\n",
    "\n",
    "\n",
    "y_train_pred = gradient_boost_model.predict(X_train_scaled)\n",
    "y_test_pred = gradient_boost_model.predict(X_test_scaled)\n",
    "\n",
    "\n",
    "train_mse = mean_squared_error(y_train, y_train_pred)\n",
    "test_mse = mean_squared_error(y_test, y_test_pred)\n",
    "\n",
    "R2_score_train = r2_score(y_train,  y_train_pred)\n",
    "R2_score_test = r2_score(y_test, y_test_pred)\n",
    "\n",
    "train_mae = mean_absolute_error(y_train, y_train_pred)\n",
    "test_mae = mean_absolute_error(y_train, y_train_pred)\n",
    "\n",
    "print(\"Train MSE GradientBoost:\", train_mse)\n",
    "print(\"Test MSE GradientBoost:\",  test_mse)\n",
    "\n",
    "print(\"R2 Score Train GradientBoost:\", R2_score_train)\n",
    "print(\"R2 Score Test GradientBoost:\", R2_score_test)\n",
    "\n",
    "print(\"Train MAE GradientBoost:\", train_mae)\n",
    "print(\"Test MAE GradientBoost:\",  test_mae)"
   ]
  },
  {
   "cell_type": "markdown",
   "id": "79c38d0d",
   "metadata": {},
   "source": [
    "# Decision Tree"
   ]
  },
  {
   "cell_type": "code",
   "execution_count": 52,
   "id": "d974fffe",
   "metadata": {},
   "outputs": [
    {
     "name": "stdout",
     "output_type": "stream",
     "text": [
      "Train MSE: 0.9887422520610514\n",
      "Test MSE: 5.306450593560369\n",
      "R2 Score Train: 0.9851603771418262\n",
      "R2 Score Test: 0.9168648762279177\n",
      "Train MAE: 0.3996614746801549\n",
      "Test MAE: 0.3996614746801549\n",
      "Best Parameters: {'max_depth': 15, 'min_samples_leaf': 2, 'min_samples_split': 10}\n"
     ]
    }
   ],
   "source": [
    "from sklearn.model_selection import GridSearchCV\n",
    "from sklearn.tree import DecisionTreeRegressor\n",
    "from sklearn.metrics import mean_squared_error\n",
    "\n",
    "\n",
    "param_grid = {\n",
    "    'max_depth': [3, 5, 7, 10, 15],\n",
    "    'min_samples_split': [2, 5, 10, 15, 20],\n",
    "    'min_samples_leaf': [1, 2, 4, 6, 8]\n",
    "}\n",
    "\n",
    "dt_regressor = DecisionTreeRegressor(random_state=42)\n",
    "grid_search = GridSearchCV(estimator = dt_regressor, param_grid = param_grid, cv = 5, scoring = 'neg_mean_squared_error')\n",
    "\n",
    "\n",
    "grid_search.fit(X_train_scaled, y_train)\n",
    "\n",
    "best_params = grid_search.best_params_\n",
    "best_estimator = grid_search.best_estimator_\n",
    "\n",
    "\n",
    "y_train_pred = best_estimator.predict(X_train_scaled)\n",
    "y_test_pred = best_estimator.predict(X_test_scaled)\n",
    "\n",
    "train_mse = mean_squared_error(y_train, y_train_pred)\n",
    "test_mse = mean_squared_error(y_test, y_test_pred)\n",
    "\n",
    "R2_score_train = r2_score(y_train,  y_train_pred)\n",
    "R2_score_test = r2_score(y_test, y_test_pred)\n",
    "\n",
    "train_mae = mean_absolute_error(y_train, y_train_pred)\n",
    "test_mae = mean_absolute_error(y_train, y_train_pred)\n",
    "\n",
    "print(\"Train MSE DecisionTree:\", train_mse)\n",
    "print(\"Test MSE DecisionTree:\",  test_mse)\n",
    "\n",
    "print(\"R2 Score Train DecisionTree:\", R2_score_train)\n",
    "print(\"R2 Score Test DecisionTree:\", R2_score_test)\n",
    "\n",
    "print(\"Train MAE DecisionTree:\", train_mae)\n",
    "print(\"Test MAE DecisionTree:\",  test_mae)\n",
    "\n",
    "print(\"Best Parameters:\", best_params)"
   ]
  },
  {
   "cell_type": "markdown",
   "id": "64a91ffe",
   "metadata": {},
   "source": [
    "# SVM"
   ]
  },
  {
   "cell_type": "code",
   "execution_count": 53,
   "id": "bc66629d",
   "metadata": {},
   "outputs": [
    {
     "name": "stdout",
     "output_type": "stream",
     "text": [
      "Best Parameters: {'C': 25, 'gamma': 0.3, 'kernel': 'rbf'}\n",
      "Train MSE: 0.7984704300104782\n",
      "Test MSE: 13.288623266939107\n",
      "R2 Score Train: 0.9880160880956995\n",
      "R2 Score Test: 0.7918097378691843\n",
      "Train MAE: 0.22024089728979943\n",
      "Test MAE: 0.22024089728979943\n"
     ]
    }
   ],
   "source": [
    "from sklearn.model_selection import GridSearchCV\n",
    "from sklearn.svm import SVR\n",
    "from sklearn.metrics import mean_squared_error\n",
    "\n",
    "\n",
    "param_grid = {\n",
    "    'kernel': ['rbf'],\n",
    "    'gamma': [ 0.3, 0.4],  \n",
    "    'C': [5.0, 10.0,25]       \n",
    "}\n",
    "\n",
    "\n",
    "svm_regressor = SVR()\n",
    "\n",
    "grid_search = GridSearchCV(estimator = svm_regressor, param_grid=param_grid, cv = 5, scoring='neg_mean_squared_error')\n",
    "\n",
    "\n",
    "grid_search.fit(X_train, y_train)\n",
    "\n",
    "\n",
    "best_params = grid_search.best_params_\n",
    "best_estimator = grid_search.best_estimator_\n",
    "\n",
    "print(\"Best Parameters:\", best_params)\n",
    "\n",
    "\n",
    "y_train_pred = best_estimator.predict(X_train)\n",
    "y_test_pred = best_estimator.predict(X_test)\n",
    "\n",
    "\n",
    "train_mse = mean_squared_error(y_train, y_train_pred)\n",
    "test_mse = mean_squared_error(y_test, y_test_pred)\n",
    "\n",
    "R2_score_train = r2_score(y_train,  y_train_pred)\n",
    "R2_score_test = r2_score(y_test, y_test_pred)\n",
    "\n",
    "train_mae = mean_absolute_error(y_train, y_train_pred)\n",
    "test_mae = mean_absolute_error(y_train, y_train_pred)\n",
    "\n",
    "print(\"Train MSE SVM:\", train_mse)\n",
    "print(\"Test MSE SVM:\",  test_mse)\n",
    "\n",
    "print(\"R2 Score Train SVM:\", R2_score_train)\n",
    "print(\"R2 Score Test SVM:\", R2_score_test)\n",
    "\n",
    "print(\"Train MAE SVM:\", train_mae)\n",
    "print(\"Test MAE SVM:\",  test_mae)"
   ]
  },
  {
   "cell_type": "markdown",
   "id": "6c3492d1",
   "metadata": {},
   "source": [
    "# Linear Regression"
   ]
  },
  {
   "cell_type": "code",
   "execution_count": 55,
   "id": "e8cf21a4",
   "metadata": {},
   "outputs": [
    {
     "name": "stdout",
     "output_type": "stream",
     "text": [
      "Train MSE: 55.732264308118886\n",
      "Test MSE: 56.01419722157733\n",
      "R2 Score Train: 0.1635375330218255\n",
      "R2 Score Test: 0.12243652571441144\n",
      "Train MAE: 6.306060271125649\n",
      "Test MAE: 6.306060271125649\n"
     ]
    }
   ],
   "source": [
    "from sklearn.linear_model import LinearRegression\n",
    "model = LinearRegression()\n",
    "\n",
    "model.fit(X_train_scaled, y_train)\n",
    "\n",
    "y_test_pred = model.predict(X_test_scaled)\n",
    "y_train_pred = model.predict(X_train_scaled)\n",
    "\n",
    "\n",
    "train_mse = mean_squared_error(y_train, y_train_pred)\n",
    "test_mse = mean_squared_error(y_test, y_test_pred)\n",
    "\n",
    "R2_score_train = r2_score(y_train,  y_train_pred)\n",
    "R2_score_test = r2_score(y_test, y_test_pred)\n",
    "\n",
    "train_mae = mean_absolute_error(y_train, y_train_pred)\n",
    "test_mae = mean_absolute_error(y_train, y_train_pred)\n",
    "\n",
    "print(\"Train MSE LinearRegression:\", train_mse)\n",
    "print(\"Test MSE LinearRegression:\",  test_mse)\n",
    "\n",
    "print(\"R2 Score Train LinearRegression:\", R2_score_train)\n",
    "print(\"R2 Score Test LinearRegression:\", R2_score_test)\n",
    "\n",
    "print(\"Train MAE LinearRegression:\", train_mae)\n",
    "print(\"Test MAE LinearRegression:\",  test_mae)"
   ]
  },
  {
   "cell_type": "markdown",
   "id": "4664edae",
   "metadata": {},
   "source": [
    "# With - LDA"
   ]
  },
  {
   "cell_type": "code",
   "execution_count": 56,
   "id": "d7fe5d7d",
   "metadata": {},
   "outputs": [
    {
     "name": "stdout",
     "output_type": "stream",
     "text": [
      "Mean Squared Error (MSE) with PCA: 57.62782199056316\n"
     ]
    }
   ],
   "source": [
    "from sklearn.decomposition import PCA\n",
    "from sklearn.linear_model import LinearRegression\n",
    "from sklearn.metrics import mean_squared_error\n",
    "\n",
    "\n",
    "\n",
    "pca = PCA(n_components=0.95) \n",
    "X_train_pca = pca.fit_transform(X_train_scaled)\n",
    "X_test_pca = pca.transform(X_test_scaled)\n",
    "\n",
    "\n",
    "model = LinearRegression()\n",
    "model.fit(X_train_pca, y_train)\n",
    "\n",
    "\n",
    "predictions = model.predict(X_test_pca)\n",
    "\n",
    "\n",
    "mse = mean_squared_error(y_test, predictions)\n",
    "print(\"Mean Squared Error (MSE) with PCA:\", mse)\n"
   ]
  },
  {
   "cell_type": "code",
   "execution_count": null,
   "id": "90fe327b",
   "metadata": {},
   "outputs": [],
   "source": []
  },
  {
   "cell_type": "code",
   "execution_count": null,
   "id": "8ff61a86",
   "metadata": {},
   "outputs": [],
   "source": []
  },
  {
   "cell_type": "code",
   "execution_count": null,
   "id": "8063ff54",
   "metadata": {},
   "outputs": [],
   "source": []
  }
 ],
 "metadata": {
  "kernelspec": {
   "display_name": "Python 3 (ipykernel)",
   "language": "python",
   "name": "python3"
  },
  "language_info": {
   "codemirror_mode": {
    "name": "ipython",
    "version": 3
   },
   "file_extension": ".py",
   "mimetype": "text/x-python",
   "name": "python",
   "nbconvert_exporter": "python",
   "pygments_lexer": "ipython3",
   "version": "3.9.13"
  }
 },
 "nbformat": 4,
 "nbformat_minor": 5
}
