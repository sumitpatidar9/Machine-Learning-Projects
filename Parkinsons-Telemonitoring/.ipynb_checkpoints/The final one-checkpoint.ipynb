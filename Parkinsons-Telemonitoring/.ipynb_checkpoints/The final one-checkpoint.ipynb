{
 "cells": [
  {
   "cell_type": "code",
   "execution_count": 14,
   "id": "cc1ece4b",
   "metadata": {},
   "outputs": [],
   "source": [
    "import pandas as pd\n",
    "df = pd.read_csv('parkinsons_updrs.csv')\n",
    "\n",
    "df.head()\n",
    "X = df.drop(columns = ['subject#', 'motor_UPDRS', 'total_UPDRS'])\n",
    "y = df['motor_UPDRS']"
   ]
  },
  {
   "cell_type": "code",
   "execution_count": 19,
   "id": "c47148d8",
   "metadata": {},
   "outputs": [],
   "source": [
    "from sklearn.model_selection import train_test_split\n",
    "\n",
    "X_train, X_test, y_train, y_test = train_test_split(X, y, test_size=0.2, random_state=42)"
   ]
  },
  {
   "cell_type": "code",
   "execution_count": 20,
   "id": "661041ae",
   "metadata": {},
   "outputs": [],
   "source": [
    "from sklearn.preprocessing import StandardScaler\n",
    "scaler = StandardScaler()\n",
    "X_train_scaled = scaler.fit_transform(X_train)\n",
    "X_test_scaled = scaler.transform(X_test)"
   ]
  },
  {
   "cell_type": "code",
   "execution_count": null,
   "id": "f2043e94",
   "metadata": {},
   "outputs": [],
   "source": [
    "from sklearn.preprocessing import MinMaxScaler\n",
    "scaler = MinMaxScaler()\n",
    "X_train_scaled = scaler.fit_transform(X_train)\n",
    "X_test_scaled = scaler.transform(X_test)"
   ]
  },
  {
   "cell_type": "markdown",
   "id": "b2315c3e",
   "metadata": {},
   "source": [
    "# AdaBoost "
   ]
  },
  {
   "cell_type": "code",
   "execution_count": 21,
   "id": "a94472e8",
   "metadata": {},
   "outputs": [
    {
     "name": "stderr",
     "output_type": "stream",
     "text": [
      "C:\\Users\\Sumit\\AppData\\Roaming\\Python\\Python39\\site-packages\\sklearn\\ensemble\\_base.py:156: FutureWarning: `base_estimator` was renamed to `estimator` in version 1.2 and will be removed in 1.4.\n",
      "  warnings.warn(\n"
     ]
    },
    {
     "name": "stdout",
     "output_type": "stream",
     "text": [
      "Adaboost Train MSE: 0.15577547636826256\n",
      "Adaboost Test MSE: 0.7538382417419265\n",
      "R2 Score Train: 0.9976620304077846\n",
      "R2 Score Test: 0.9881897636798131\n"
     ]
    }
   ],
   "source": [
    "from sklearn.ensemble import AdaBoostRegressor\n",
    "from sklearn.tree import DecisionTreeRegressor\n",
    "from sklearn.metrics import mean_squared_error\n",
    "from sklearn.metrics import r2_score\n",
    "\n",
    "adaboost_model = AdaBoostRegressor(base_estimator = DecisionTreeRegressor(max_depth = 10), n_estimators = 100, random_state = 42)\n",
    "\n",
    "\n",
    "adaboost_model.fit(X_train_scaled, y_train)\n",
    "\n",
    "y_train_pred = adaboost_model.predict(X_train_scaled)\n",
    "y_test_pred =  adaboost_model.predict(X_test_scaled)\n",
    "\n",
    "adaboost_train_mse = mean_squared_error(y_train, y_train_pred)\n",
    "adaboost_test_mse = mean_squared_error(y_test, y_test_pred)\n",
    "\n",
    "R2_score_train = r2_score(y_train,  y_train_pred)\n",
    "R2_score_test = r2_score(y_test, y_test_pred)\n",
    "\n",
    "print(\"Adaboost Train MSE:\", adaboost_train_mse)\n",
    "print(\"Adaboost Test MSE:\", adaboost_test_mse)\n",
    "\n",
    "print(\"R2 Score Train:\", R2_score_train)\n",
    "print(\"R2 Score Test:\", R2_score_test)"
   ]
  },
  {
   "cell_type": "markdown",
   "id": "9c53ea56",
   "metadata": {},
   "source": [
    "# GradientBoost"
   ]
  },
  {
   "cell_type": "code",
   "execution_count": 5,
   "id": "b746bd44",
   "metadata": {},
   "outputs": [
    {
     "name": "stdout",
     "output_type": "stream",
     "text": [
      "Gradient Boosting Train MSE: 0.4094978533280606\n",
      "Gradient Boosting Test MSE: 1.9356868266215839\n",
      "R2 Score Train: 0.993854016360732\n",
      "R2 Score Test: 0.9696739730111756\n"
     ]
    }
   ],
   "source": [
    "from sklearn.ensemble import GradientBoostingRegressor\n",
    "\n",
    "gradient_boost_model = GradientBoostingRegressor(n_estimators = 100, learning_rate = 0.1, max_depth = 7, random_state = 42)\n",
    "\n",
    "gradient_boost_model.fit(X_train, y_train)\n",
    "\n",
    "\n",
    "y_train_pred = gradient_boost_model.predict(X_train)\n",
    "y_test_pred = gradient_boost_model.predict(X_test)\n",
    "\n",
    "\n",
    "gradient_boost_train_mse = mean_squared_error(y_train, y_train_pred)\n",
    "gradient_boost_test_mse = mean_squared_error(y_test, y_test_pred)\n",
    "\n",
    "R2_score_train = r2_score(y_train,y_train_pred)\n",
    "R2_score_test = r2_score(y_test, y_test_pred)\n",
    "\n",
    "print(\"Gradient Boosting Train MSE:\", gradient_boost_train_mse)\n",
    "print(\"Gradient Boosting Test MSE:\", gradient_boost_test_mse)\n",
    "print(\"R2 Score Train:\", R2_score_train)\n",
    "print(\"R2 Score Test:\", R2_score_test)"
   ]
  },
  {
   "cell_type": "markdown",
   "id": "79c38d0d",
   "metadata": {},
   "source": [
    "# Decision Tree"
   ]
  },
  {
   "cell_type": "code",
   "execution_count": 6,
   "id": "d974fffe",
   "metadata": {},
   "outputs": [
    {
     "name": "stdout",
     "output_type": "stream",
     "text": [
      "Decision Tree Train MSE: 0.9886422897344043\n",
      "Decision Tree Test MSE: 5.257592894028528\n",
      "R2 Score Train: 0.9851618774349759\n",
      "R2 Score Test: 0.9176303202523524\n",
      "Best Parameters: {'max_depth': 15, 'min_samples_leaf': 2, 'min_samples_split': 10}\n"
     ]
    }
   ],
   "source": [
    "from sklearn.model_selection import GridSearchCV\n",
    "from sklearn.tree import DecisionTreeRegressor\n",
    "from sklearn.metrics import mean_squared_error\n",
    "\n",
    "\n",
    "param_grid = {\n",
    "    'max_depth': [3, 5, 7, 10, 15],\n",
    "    'min_samples_split': [2, 5, 10, 15, 20],\n",
    "    'min_samples_leaf': [1, 2, 4, 6, 8]\n",
    "}\n",
    "\n",
    "dt_regressor = DecisionTreeRegressor(random_state=42)\n",
    "grid_search = GridSearchCV(estimator = dt_regressor, param_grid = param_grid, cv = 5, scoring = 'neg_mean_squared_error')\n",
    "\n",
    "\n",
    "grid_search.fit(X_train, y_train)\n",
    "\n",
    "best_params = grid_search.best_params_\n",
    "best_estimator = grid_search.best_estimator_\n",
    "\n",
    "\n",
    "y_train_pred = best_estimator.predict(X_train)\n",
    "y_test_pred = best_estimator.predict(X_test)\n",
    "\n",
    "train_mse = mean_squared_error(y_train, y_train_pred)\n",
    "test_mse = mean_squared_error(y_test, y_test_pred)\n",
    "R2_score_train = r2_score(y_train, y_train_pred)\n",
    "R2_score_test = r2_score(y_test, y_test_pred)\n",
    "\n",
    "\n",
    "\n",
    "print(\"Decision Tree Train MSE:\", train_mse)\n",
    "print(\"Decision Tree Test MSE:\", test_mse)\n",
    "print(\"R2 Score Train:\", R2_score_train)\n",
    "print(\"R2 Score Test:\", R2_score_test)\n",
    "\n",
    "\n",
    "print(\"Best Parameters:\", best_params)"
   ]
  },
  {
   "cell_type": "markdown",
   "id": "64a91ffe",
   "metadata": {},
   "source": [
    "# SVM"
   ]
  },
  {
   "cell_type": "code",
   "execution_count": null,
   "id": "d43d08a2",
   "metadata": {},
   "outputs": [],
   "source": [
    "from sklearn.svm import SVR\n",
    "from sklearn.metrics import mean_squared_error\n",
    "\n",
    "# Define the parameters for the SVM regressor\n",
    "# Adjust these parameters as needed\n",
    "params = {\n",
    "    'kernel': 'rbf',     # You can also try other kernels like 'linear', 'poly', 'sigmoid'\n",
    "    'gamma': 0.9,    # Scale is a common choice, but you can experiment with other values\n",
    "    'C': 25           # Regularization parameter, adjust as needed\n",
    "}\n",
    "\n",
    "\n",
    "svm_regressor = SVR(**params)\n",
    "\n",
    "\n",
    "svm_regressor.fit(X_train, y_train)\n",
    "\n",
    "\n",
    "y_train_pred = svm_regressor.predict(X_train)\n",
    "y_test_pred = svm_regressor.predict(X_test)\n",
    "\n",
    "\n",
    "train_mse = mean_squared_error(y_train, y_train_pred)\n",
    "test_mse = mean_squared_error(y_test, y_test_pred)\n",
    "\n",
    "print(\"SVM Train MSE:\", train_mse)\n",
    "print(\"SVM Test MSE:\", test_mse)\n"
   ]
  },
  {
   "cell_type": "code",
   "execution_count": 13,
   "id": "bc66629d",
   "metadata": {},
   "outputs": [
    {
     "name": "stdout",
     "output_type": "stream",
     "text": [
      "Best Parameters: {'C': 10.0, 'gamma': 0.4, 'kernel': 'rbf'}\n",
      "SVM Train MSE: 2.52098178257554\n",
      "SVM Test MSE: 17.130993770372786\n"
     ]
    }
   ],
   "source": [
    "from sklearn.model_selection import GridSearchCV\n",
    "from sklearn.svm import SVR\n",
    "from sklearn.metrics import mean_squared_error\n",
    "\n",
    "# Define the parameter grid for grid search\n",
    "param_grid = {\n",
    "    'kernel': ['rbf'],\n",
    "    'gamma': [ 0.3, 0.4],  # You can also try other values like 'scale', 0.1, 0.01, etc.\n",
    "    'C': [0.1, 5.0, 10.0]        # Regularization parameter, adjust as needed\n",
    "}\n",
    "\n",
    "# Create the SVM regressor\n",
    "svm_regressor = SVR()\n",
    "\n",
    "# Create the grid search object\n",
    "grid_search = GridSearchCV(estimator = svm_regressor, param_grid=param_grid, cv = 5, scoring='neg_mean_squared_error')\n",
    "\n",
    "# Perform grid search cross-validation\n",
    "grid_search.fit(X_train, y_train)\n",
    "\n",
    "# Get the best parameters and best estimator\n",
    "best_params = grid_search.best_params_\n",
    "best_estimator = grid_search.best_estimator_\n",
    "\n",
    "print(\"Best Parameters:\", best_params)\n",
    "\n",
    "# Predict the target variable for the training and testing data using the best estimator\n",
    "y_train_pred = best_estimator.predict(X_train)\n",
    "y_test_pred = best_estimator.predict(X_test)\n",
    "\n",
    "# Calculate Mean Squared Error (MSE) for training and testing data\n",
    "train_mse = mean_squared_error(y_train, y_train_pred)\n",
    "test_mse = mean_squared_error(y_test, y_test_pred)\n",
    "\n",
    "print(\"SVM Train MSE:\", train_mse)\n",
    "print(\"SVM Test MSE:\", test_mse)\n"
   ]
  },
  {
   "cell_type": "code",
   "execution_count": null,
   "id": "e8cf21a4",
   "metadata": {},
   "outputs": [],
   "source": []
  }
 ],
 "metadata": {
  "kernelspec": {
   "display_name": "Python 3 (ipykernel)",
   "language": "python",
   "name": "python3"
  },
  "language_info": {
   "codemirror_mode": {
    "name": "ipython",
    "version": 3
   },
   "file_extension": ".py",
   "mimetype": "text/x-python",
   "name": "python",
   "nbconvert_exporter": "python",
   "pygments_lexer": "ipython3",
   "version": "3.9.13"
  }
 },
 "nbformat": 4,
 "nbformat_minor": 5
}
