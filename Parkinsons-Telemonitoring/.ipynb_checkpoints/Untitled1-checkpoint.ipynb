{
 "cells": [
  {
   "cell_type": "code",
   "execution_count": 2,
   "id": "191f6fdc",
   "metadata": {},
   "outputs": [],
   "source": [
    "import pandas as pd\n",
    "df = pd.read_csv('parkinsons_updrs.csv')\n",
    "\n",
    "df.head()\n",
    "X = df.drop(columns = ['subject#', 'motor_UPDRS', 'total_UPDRS'])\n",
    "y = df['motor_UPDRS']"
   ]
  },
  {
   "cell_type": "code",
   "execution_count": 3,
   "id": "8888d052",
   "metadata": {},
   "outputs": [
    {
     "name": "stdout",
     "output_type": "stream",
     "text": [
      "Train MSE: 57.65922330300517\n",
      "Test MSE: 57.62782199056316\n"
     ]
    }
   ],
   "source": [
    "from sklearn.model_selection import train_test_split\n",
    "from sklearn.preprocessing import StandardScaler\n",
    "from sklearn.decomposition import PCA\n",
    "from sklearn.linear_model import LinearRegression\n",
    "from sklearn.metrics import mean_squared_error\n",
    "\n",
    "# 1. Import the data\n",
    "# Assuming you've imported your dataset into X and y\n",
    "\n",
    "# 2. Preprocessing\n",
    "# Split the data into train and test sets\n",
    "X_train, X_test, y_train, y_test = train_test_split(X, y, test_size=0.2, random_state=42)\n",
    "\n",
    "# 3. Scaling\n",
    "scaler = StandardScaler()\n",
    "X_train_scaled = scaler.fit_transform(X_train)\n",
    "X_test_scaled = scaler.transform(X_test)\n",
    "\n",
    "# 4. Feature Engineering (if needed)\n",
    "\n",
    "# 5. PCA\n",
    "pca = PCA(n_components=0.95)  # Keep 95% of the variance\n",
    "X_train_pca = pca.fit_transform(X_train_scaled)\n",
    "X_test_pca = pca.transform(X_test_scaled)\n",
    "\n",
    "# 6. Model Selection\n",
    "model = LinearRegression()\n",
    "model.fit(X_train_pca, y_train)\n",
    "\n",
    "# 7. Model Evaluation\n",
    "train_mse = mean_squared_error(y_train, model.predict(X_train_pca))\n",
    "test_mse = mean_squared_error(y_test, model.predict(X_test_pca))\n",
    "\n",
    "print(\"Train MSE:\", train_mse)\n",
    "print(\"Test MSE:\", test_mse)\n"
   ]
  },
  {
   "cell_type": "code",
   "execution_count": 5,
   "id": "556b4780",
   "metadata": {},
   "outputs": [
    {
     "name": "stdout",
     "output_type": "stream",
     "text": [
      "Decision Tree Train MSE: 1.0758720005248268e-31\n",
      "Decision Tree Test MSE: 55.9844632303234\n"
     ]
    }
   ],
   "source": [
    "from sklearn.tree import DecisionTreeRegressor\n",
    "\n",
    "# Create and train the decision tree model\n",
    "dt_model = DecisionTreeRegressor(random_state=42)\n",
    "dt_model.fit(X_train_pca, y_train)\n",
    "\n",
    "# Evaluate the model\n",
    "dt_train_mse = mean_squared_error(y_train, dt_model.predict(X_train_pca))\n",
    "dt_test_mse = mean_squared_error(y_test, dt_model.predict(X_test_pca))\n",
    "\n",
    "print(\"Decision Tree Train MSE:\", dt_train_mse)\n",
    "print(\"Decision Tree Test MSE:\", dt_test_mse)"
   ]
  },
  {
   "cell_type": "code",
   "execution_count": 6,
   "id": "f5b6e366",
   "metadata": {},
   "outputs": [
    {
     "name": "stdout",
     "output_type": "stream",
     "text": [
      "Random Forest Train MSE: 3.5002903724339496\n",
      "Random Forest Test MSE: 24.841065495715316\n"
     ]
    }
   ],
   "source": [
    "from sklearn.ensemble import RandomForestRegressor\n",
    "\n",
    "# Create and train the random forest model\n",
    "rf_model = RandomForestRegressor(n_estimators=100, random_state=42)\n",
    "rf_model.fit(X_train_pca, y_train)\n",
    "\n",
    "# Evaluate the model\n",
    "rf_train_mse = mean_squared_error(y_train, rf_model.predict(X_train_pca))\n",
    "rf_test_mse = mean_squared_error(y_test, rf_model.predict(X_test_pca))\n",
    "\n",
    "print(\"Random Forest Train MSE:\", rf_train_mse)\n",
    "print(\"Random Forest Test MSE:\", rf_test_mse)\n"
   ]
  },
  {
   "cell_type": "code",
   "execution_count": 26,
   "id": "1d1b0c59",
   "metadata": {},
   "outputs": [
    {
     "name": "stdout",
     "output_type": "stream",
     "text": [
      "Gradient Boosting Train MSE: 43.55462763963456\n",
      "Gradient Boosting Test MSE: 48.721595835228\n"
     ]
    }
   ],
   "source": [
    "from sklearn.ensemble import GradientBoostingRegressor\n",
    "\n",
    "# Create and train the gradient boosting model\n",
    "gb_model = GradientBoostingRegressor(n_estimators=100, random_state=42)\n",
    "gb_model.fit(X_train_pca, y_train)\n",
    "\n",
    "# Evaluate the model\n",
    "gb_train_mse = mean_squared_error(y_train, gb_model.predict(X_train_pca))\n",
    "gb_test_mse = mean_squared_error(y_test, gb_model.predict(X_test_pca))\n",
    "\n",
    "print(\"Gradient Boosting Train MSE:\", gb_train_mse)\n",
    "print(\"Gradient Boosting Test MSE:\", gb_test_mse)\n"
   ]
  },
  {
   "cell_type": "code",
   "execution_count": 17,
   "id": "9d5da5ee",
   "metadata": {},
   "outputs": [
    {
     "name": "stdout",
     "output_type": "stream",
     "text": [
      "SVM Train MSE: 61.169282419383784\n",
      "SVM Test MSE: 60.90017403701152\n"
     ]
    }
   ],
   "source": [
    "from sklearn.svm import SVR\n",
    "from sklearn.pipeline import Pipeline\n",
    "\n",
    "# Define the steps for the pipeline including scaling, PCA, and SVM\n",
    "svm_pipeline = Pipeline([\n",
    "    ('scaling', StandardScaler()),  # Step 1: Scaling\n",
    "    ('pca', PCA(n_components = 0.95)),  # Step 2: PCA\n",
    "    ('svm', SVR(kernel='poly'))  # Step 3: SVM with radial basis function (RBF) kernel\n",
    "])\n",
    "\n",
    "# Train the SVM model\n",
    "svm_pipeline.fit(X_train, y_train)\n",
    "\n",
    "# Evaluate the model\n",
    "svm_train_mse = mean_squared_error(y_train, svm_pipeline.predict(X_train))\n",
    "svm_test_mse = mean_squared_error(y_test, svm_pipeline.predict(X_test))\n",
    "\n",
    "print(\"SVM Train MSE:\", svm_train_mse)\n",
    "print(\"SVM Test MSE:\", svm_test_mse)\n"
   ]
  },
  {
   "cell_type": "code",
   "execution_count": null,
   "id": "bb598725",
   "metadata": {},
   "outputs": [],
   "source": []
  },
  {
   "cell_type": "code",
   "execution_count": null,
   "id": "22f67023",
   "metadata": {},
   "outputs": [],
   "source": []
  },
  {
   "cell_type": "code",
   "execution_count": 7,
   "id": "87917a58",
   "metadata": {},
   "outputs": [
    {
     "data": {
      "text/plain": [
       "(5875, 22)"
      ]
     },
     "execution_count": 7,
     "metadata": {},
     "output_type": "execute_result"
    }
   ],
   "source": [
    "import pandas as pd\n",
    "df = pd.read_csv('parkinsons_updrs.csv')\n",
    "\n",
    "df.shape"
   ]
  },
  {
   "cell_type": "code",
   "execution_count": 9,
   "id": "fe81a81a",
   "metadata": {},
   "outputs": [],
   "source": [
    "X = df.drop(columns = ['motor_UPDRS', 'total_UPDRS','subject#'])\n",
    "y_motor = df['motor_UPDRS']\n",
    "y_total = df['total_UPDRS']"
   ]
  },
  {
   "cell_type": "code",
   "execution_count": 10,
   "id": "d131b447",
   "metadata": {},
   "outputs": [],
   "source": [
    "from sklearn.model_selection import train_test_split\n",
    "X_train,X_test,y_train, y_test = train_test_split(X, y_motor, test_size = 0.2, random_state = 42)"
   ]
  },
  {
   "cell_type": "code",
   "execution_count": 11,
   "id": "d0f55afe",
   "metadata": {},
   "outputs": [],
   "source": [
    "from sklearn.preprocessing import StandardScaler\n",
    "scaler = StandardScaler()\n",
    "X_train_scaled = scaler.fit_transform(X_train)\n",
    "X_test_scaled = scaler.transform(X_test)"
   ]
  },
  {
   "cell_type": "code",
   "execution_count": 12,
   "id": "9502646e",
   "metadata": {},
   "outputs": [
    {
     "name": "stdout",
     "output_type": "stream",
     "text": [
      "Decision Tree Train MSE: 104.49565952852977\n",
      "Decision Tree Test MSE: 99.53411412204254\n"
     ]
    },
    {
     "name": "stderr",
     "output_type": "stream",
     "text": [
      "C:\\Users\\Sumit\\AppData\\Roaming\\Python\\Python39\\site-packages\\sklearn\\base.py:458: UserWarning: X has feature names, but DecisionTreeRegressor was fitted without feature names\n",
      "  warnings.warn(\n",
      "C:\\Users\\Sumit\\AppData\\Roaming\\Python\\Python39\\site-packages\\sklearn\\base.py:458: UserWarning: X has feature names, but DecisionTreeRegressor was fitted without feature names\n",
      "  warnings.warn(\n"
     ]
    }
   ],
   "source": [
    "from sklearn.tree import DecisionTreeRegressor\n",
    "\n",
    "\n",
    "dt_model = DecisionTreeRegressor(random_state=42)\n",
    "dt_model.fit(X_train_scaled, y_train)\n",
    "\n",
    "\n",
    "dt_train_mse = mean_squared_error(y_train, dt_model.predict(X_train))\n",
    "dt_test_mse = mean_squared_error(y_test, dt_model.predict(X_test))\n",
    "\n",
    "print(\"Decision Tree Train MSE:\", dt_train_mse)\n",
    "print(\"Decision Tree Test MSE:\", dt_test_mse)"
   ]
  },
  {
   "cell_type": "code",
   "execution_count": null,
   "id": "7c15d1d3",
   "metadata": {},
   "outputs": [],
   "source": []
  }
 ],
 "metadata": {
  "kernelspec": {
   "display_name": "Python 3 (ipykernel)",
   "language": "python",
   "name": "python3"
  },
  "language_info": {
   "codemirror_mode": {
    "name": "ipython",
    "version": 3
   },
   "file_extension": ".py",
   "mimetype": "text/x-python",
   "name": "python",
   "nbconvert_exporter": "python",
   "pygments_lexer": "ipython3",
   "version": "3.9.13"
  }
 },
 "nbformat": 4,
 "nbformat_minor": 5
}
